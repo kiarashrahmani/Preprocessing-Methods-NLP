{
 "cells": [
  {
   "cell_type": "markdown",
   "id": "7d772e10",
   "metadata": {},
   "source": [
    "# <span style=\"font-family: Cambria;\">Preprocessing</span>"
   ]
  },
  {
   "cell_type": "markdown",
   "id": "c484f73c",
   "metadata": {},
   "source": [
    "<span style=\"font-family: Cambria;\">This document ties to describe some popular preprocessing activities which are so critical in text mining.  \n",
    "Preprocessing is an essential phase in text processing that includes a set of activities.\n",
    "This document ties to describe some popular preprocessing activities which are so critical in text mining.  \n",
    "Preprocessing is an essential phase in text processing that includes a set of activities.</span>"
   ]
  },
  {
   "cell_type": "markdown",
   "id": "bfb52597",
   "metadata": {},
   "source": [
    "## <span style=\"font-family: Cambria;\">1)Tokenization</span>"
   ]
  },
  {
   "cell_type": "code",
   "execution_count": 5,
   "id": "db5a35fb",
   "metadata": {},
   "outputs": [],
   "source": [
    "from nltk.tokenize import LineTokenizer \n"
   ]
  },
  {
   "cell_type": "code",
   "execution_count": null,
   "id": "e45ed117",
   "metadata": {},
   "outputs": [],
   "source": []
  }
 ],
 "metadata": {
  "kernelspec": {
   "display_name": "Python 3 (ipykernel)",
   "language": "python",
   "name": "python3"
  },
  "language_info": {
   "codemirror_mode": {
    "name": "ipython",
    "version": 3
   },
   "file_extension": ".py",
   "mimetype": "text/x-python",
   "name": "python",
   "nbconvert_exporter": "python",
   "pygments_lexer": "ipython3",
   "version": "3.9.17"
  }
 },
 "nbformat": 4,
 "nbformat_minor": 5
}
